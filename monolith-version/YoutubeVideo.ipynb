{
 "cells": [
  {
   "cell_type": "code",
   "execution_count": null,
   "id": "6df9fa3d-1037-48a4-90c0-3d0abc6875b6",
   "metadata": {},
   "outputs": [],
   "source": []
  },
  {
   "cell_type": "code",
   "execution_count": null,
   "id": "cdea763f-676f-4214-ab5b-29a0c0abe9dc",
   "metadata": {},
   "outputs": [],
   "source": [
    " #nest-asyncio"
   ]
  },
  {
   "cell_type": "code",
   "execution_count": 14,
   "id": "9f263567-b8f0-48bd-b64d-4ebf49545796",
   "metadata": {},
   "outputs": [
    {
     "name": "stdout",
     "output_type": "stream",
     "text": [
      "Enter the destination address (leave blank to save in current directory)\n",
      "Stereo Hearts  Mix Gym Class Heroes One Direction Bruno Mars Ruth B.mp4\n",
      "Stereo Hearts / Mix Gym Class Heroes, One Direction, Bruno Mars, Ruth B has been successfully downloaded.\n"
     ]
    },
    {
     "data": {
      "text/plain": [
       "<_io.BufferedRandom name='./segmentedTracks/Stereo Hearts  Mix Gym Class Heroes One Direction Bruno Mars Ruth B/segment1.mp4'>"
      ]
     },
     "execution_count": 14,
     "metadata": {},
     "output_type": "execute_result"
    }
   ],
   "source": [
    "\n",
    "from pytube import YouTube\n",
    "import os\n",
    "from pydub import AudioSegment\n",
    "from pathlib import Path\n",
    "\n",
    "\n",
    "#yt = YouTube(str(input(\"Enter URL of youtube video: \\n \")))\n",
    "yt = YouTube('https://www.youtube.com/watch?v=_fqpk3cXG-U')\n",
    "video = yt.streams.filter(only_audio=True).first()\n",
    "print(\"Enter the destination address (leave blank to save in current directory)\")\n",
    "#destination = str(input(\" \")) or '.'\n",
    "destination = './mp4Files/'\n",
    "out_file = video.download(output_path=destination)\n",
    "\n",
    "base, ext = os.path.splitext(out_file)\n",
    "new_file = base + '.mp4'\n",
    "os.rename(out_file, new_file)\n",
    "your_path = Path(new_file)\n",
    "print(your_path.name)\n",
    "\n",
    "print(yt.title + \" has been successfully downloaded.\")\n",
    "\n",
    "song_name = yt.title\n",
    "downloaded_song = new_file\n",
    "song = AudioSegment.from_file('./mp4Files/'+your_path.name, \"mp4\")\n",
    "ten_seconds = 10 * 1000\n",
    "segment = song[:ten_seconds]\n",
    "\n",
    "seg_path = './segmentedTracks/'+your_path.name[:-4]+'/'\n",
    "if not os.path.exists(seg_path):\n",
    "  # Create a new directory because it does not exist \n",
    "  os.makedirs(seg_path)\n",
    "segment.export(out_f='./segmentedTracks/'+your_path.name[:-4]+'/'+'segment1.mp4',format='mp4')\n"
   ]
  },
  {
   "cell_type": "code",
   "execution_count": 4,
   "id": "4726b408-600e-4b25-b5c5-5e51a3c4e751",
   "metadata": {},
   "outputs": [
    {
     "name": "stdout",
     "output_type": "stream",
     "text": [
      "Attention\n"
     ]
    }
   ],
   "source": [
    "\n",
    "from ShazamAPI import Shazam\n",
    "def mainmain():\n",
    "    seg = './segmentedTracks/Charlie Puth - Attention [Official Video]/'\n",
    "    ntrack = 'segment0.mp4'\n",
    "    mp3_file_content_to_recognize = open(seg+ntrack, 'rb').read()\n",
    "\n",
    "    shazam = Shazam(mp3_file_content_to_recognize)\n",
    "    recognize_generator = shazam.recognizeSong()\n",
    "\n",
    "    while True:\n",
    "        one_record = next(recognize_generator)\n",
    "        break\n",
    "    '''\n",
    "    song_info = {}\n",
    "    song_info['title'] = one_record[1]['track']['title']\n",
    "    song_info['Track ID'] = one_record[1]['track']['key']\n",
    "    #309528203\n",
    "    song_info['Sub title'] = one_record[1]['track']['subtitle']\n",
    "    \n",
    "    lyrics_sections = one_record[1]['track']['sections']\n",
    "    for section in lyrics_sections:\n",
    "        if section['type'] == 'LYRICS':\n",
    "            song_info['lyrics'] = section['text']\n",
    "    '''\n",
    "    print(one_record[1]['track']['title'])\n",
    "mainmain()\n"
   ]
  },
  {
   "cell_type": "code",
   "execution_count": 4,
   "id": "92b2259f-25c5-41ef-91fd-596e0fafacbd",
   "metadata": {},
   "outputs": [],
   "source": [
    "#from playsound import playsound"
   ]
  },
  {
   "cell_type": "code",
   "execution_count": 5,
   "id": "2d05fae7-5b00-4484-9d39-04ea4f52c00f",
   "metadata": {},
   "outputs": [],
   "source": [
    "#playsound('rickroll.mp4')"
   ]
  },
  {
   "cell_type": "code",
   "execution_count": null,
   "id": "1f0c098a-6cf9-4ae8-88f1-dbd990a18553",
   "metadata": {},
   "outputs": [],
   "source": []
  }
 ],
 "metadata": {
  "kernelspec": {
   "display_name": "Python 3.9.7 64-bit",
   "language": "python",
   "name": "python3"
  },
  "language_info": {
   "codemirror_mode": {
    "name": "ipython",
    "version": 3
   },
   "file_extension": ".py",
   "mimetype": "text/x-python",
   "name": "python",
   "nbconvert_exporter": "python",
   "pygments_lexer": "ipython3",
   "version": "3.9.7"
  },
  "vscode": {
   "interpreter": {
    "hash": "afe57345d6b78de11303afd6d7a92989906a5fc5cba5d6e46dc784aa2e3ade50"
   }
  }
 },
 "nbformat": 4,
 "nbformat_minor": 5
}
