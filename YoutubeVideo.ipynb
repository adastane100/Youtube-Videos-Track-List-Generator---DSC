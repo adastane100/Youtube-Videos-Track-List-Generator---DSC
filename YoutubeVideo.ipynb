{
 "cells": [
  {
   "cell_type": "code",
   "execution_count": null,
   "id": "6df9fa3d-1037-48a4-90c0-3d0abc6875b6",
   "metadata": {},
   "outputs": [],
   "source": []
  },
  {
   "cell_type": "code",
   "execution_count": null,
   "id": "cdea763f-676f-4214-ab5b-29a0c0abe9dc",
   "metadata": {},
   "outputs": [],
   "source": [
    " nest-asyncio"
   ]
  },
  {
   "cell_type": "code",
   "execution_count": null,
   "id": "9f263567-b8f0-48bd-b64d-4ebf49545796",
   "metadata": {},
   "outputs": [],
   "source": [
    "from pytube import YouTube\n",
    "import os\n",
    "#yt = YouTube(str(input(\"Enter URL of youtube video: \\n \")))\n",
    "yt = YouTube('https://www.youtube.com/watch?v=8CifN2yqdg4')\n",
    "video = yt.streams.filter(only_audio=True).first()\n",
    "print(\"Enter the destination address (leave blank to save in current directory)\")\n",
    "#destination = str(input(\" \")) or '.'\n",
    "destination = ''\n",
    "out_file = video.download(output_path=destination)\n",
    "\n",
    "base, ext = os.path.splitext(out_file)\n",
    "new_file = base + '.mp3'\n",
    "os.rename(out_file, new_file)\n",
    "\n",
    "print(yt.title + \" has been successfully downloaded.\")\n",
    "\n",
    "song_name = yt.title\n",
    "downloaded_song = new_file\n",
    "downloaded_song"
   ]
  },
  {
   "cell_type": "code",
   "execution_count": 8,
   "id": "4726b408-600e-4b25-b5c5-5e51a3c4e751",
   "metadata": {},
   "outputs": [
    {
     "data": {
      "text/plain": [
       "'\\nwhile True:\\n\\tprint(next(recognize_generator)) # current offset & shazam response to recognize requests\\n'"
      ]
     },
     "execution_count": 8,
     "metadata": {},
     "output_type": "execute_result"
    }
   ],
   "source": [
    "from ShazamAPI import Shazam\n",
    "\n",
    "mp3_file_content_to_recognize = open('abcde.mp3', 'rb').read()\n",
    "\n",
    "shazam = Shazam(mp3_file_content_to_recognize)\n",
    "recognize_generator = shazam.recognizeSong()\n",
    "'''\n",
    "while True:\n",
    "\tprint(next(recognize_generator)) # current offset & shazam response to recognize requests\n",
    "'''\n",
    "while True:\n",
    "    one_record = next(recognize_generator)\n",
    "    break\n",
    "song_info = {}\n",
    "song_info['title'] = one_record[1]['track']['title']\n",
    "song_info['Track ID'] = one_record[1]['track']['key']\n",
    "#309528203\n",
    "song_info['Sub title'] = one_record[1]['track']['subtitle']\n",
    "lyrics_sections = one_record[1]['track']['sections']\n",
    "for section in lyrics_sections:\n",
    "    if section['type'] == 'LYRICS':\n",
    "        song_info['lyrics'] = section['text']\n",
    "song_info "
   ]
  },
  {
   "cell_type": "code",
   "execution_count": null,
   "id": "92b2259f-25c5-41ef-91fd-596e0fafacbd",
   "metadata": {},
   "outputs": [],
   "source": [
    "from playsound import playsound"
   ]
  },
  {
   "cell_type": "code",
   "execution_count": null,
   "id": "2d05fae7-5b00-4484-9d39-04ea4f52c00f",
   "metadata": {},
   "outputs": [],
   "source": [
    "playsound('abcde.mp3')"
   ]
  },
  {
   "cell_type": "code",
   "execution_count": null,
   "id": "1f0c098a-6cf9-4ae8-88f1-dbd990a18553",
   "metadata": {},
   "outputs": [],
   "source": []
  }
 ],
 "metadata": {
  "kernelspec": {
   "display_name": "Python 3 (ipykernel)",
   "language": "python",
   "name": "python3"
  },
  "language_info": {
   "codemirror_mode": {
    "name": "ipython",
    "version": 3
   },
   "file_extension": ".py",
   "mimetype": "text/x-python",
   "name": "python",
   "nbconvert_exporter": "python",
   "pygments_lexer": "ipython3",
   "version": "3.10.5"
  }
 },
 "nbformat": 4,
 "nbformat_minor": 5
}
