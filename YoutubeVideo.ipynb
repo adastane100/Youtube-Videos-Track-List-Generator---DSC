{
 "cells": [
  {
   "cell_type": "code",
   "execution_count": null,
   "id": "6df9fa3d-1037-48a4-90c0-3d0abc6875b6",
   "metadata": {},
   "outputs": [],
   "source": []
  },
  {
   "cell_type": "code",
   "execution_count": null,
   "id": "cdea763f-676f-4214-ab5b-29a0c0abe9dc",
   "metadata": {},
   "outputs": [],
   "source": [
    " nest-asyncio"
   ]
  },
  {
   "cell_type": "code",
   "execution_count": 10,
   "id": "9f263567-b8f0-48bd-b64d-4ebf49545796",
   "metadata": {},
   "outputs": [
    {
     "name": "stdout",
     "output_type": "stream",
     "text": [
      "Enter the destination address (leave blank to save in current directory)\n",
      "Chitthi | QK, UK Rapi Boy | Hustle 2.0 has been successfully downloaded.\n"
     ]
    },
    {
     "data": {
      "text/plain": [
       "'/Users/Kelly/Desktop/Boulder/22-2-fall/dssc/Youtube-Videos-Track-List-Generator---DSC/Chitthi  QK UK Rapi Boy  Hustle 20.mp3'"
      ]
     },
     "execution_count": 10,
     "metadata": {},
     "output_type": "execute_result"
    }
   ],
   "source": [
    "from pytube import YouTube\n",
    "import os\n",
    "#yt = YouTube(str(input(\"Enter URL of youtube video: \\n \")))\n",
    "yt = YouTube('https://www.youtube.com/watch?v=8CifN2yqdg4')\n",
    "video = yt.streams.filter(only_audio=True).first()\n",
    "print(\"Enter the destination address (leave blank to save in current directory)\")\n",
    "#destination = str(input(\" \")) or '.'\n",
    "destination = ''\n",
    "out_file = video.download(output_path=destination)\n",
    "\n",
    "base, ext = os.path.splitext(out_file)\n",
    "new_file = base + '.mp3'\n",
    "os.rename(out_file, new_file)\n",
    "\n",
    "print(yt.title + \" has been successfully downloaded.\")\n",
    "\n",
    "song_name = yt.title\n",
    "downloaded_song = new_file\n",
    "downloaded_song"
   ]
  },
  {
   "cell_type": "code",
   "execution_count": 11,
   "id": "4726b408-600e-4b25-b5c5-5e51a3c4e751",
   "metadata": {},
   "outputs": [
    {
     "data": {
      "text/plain": [
       "{'title': \"We Don't Talk Anymore (feat. Selena Gomez)\",\n",
       " 'Track ID': '309528203',\n",
       " 'Sub title': 'Charlie Puth',\n",
       " 'lyrics': [\"We don't talk anymore\",\n",
       "  \"We don't talk anymore\",\n",
       "  \"We don't talk anymore\",\n",
       "  'Like we used to do',\n",
       "  \"We don't love anymore\",\n",
       "  'What was all of it for?',\n",
       "  \"Oh, we don't talk anymore\",\n",
       "  'Like we used to do',\n",
       "  '',\n",
       "  \"I just heard you found the one you've been looking\",\n",
       "  \"You've been looking for\",\n",
       "  \"I wish I would have known that wasn't me\",\n",
       "  \"'Cause even after all this time I still wonder\",\n",
       "  \"Why I can't move on\",\n",
       "  'Just the way you did so easily?',\n",
       "  '',\n",
       "  \"Don't wanna know\",\n",
       "  \"What kind of dress you're wearing tonight\",\n",
       "  \"If he's holding onto you so tight\",\n",
       "  'The way I did before',\n",
       "  'I overdosed',\n",
       "  \"Should've known your love was a game\",\n",
       "  \"Now I can't get you out of my brain\",\n",
       "  \"Oh, it's such a shame\",\n",
       "  '',\n",
       "  \"That we don't talk anymore\",\n",
       "  \"We don't talk anymore\",\n",
       "  \"We don't talk anymore\",\n",
       "  'Like we used to do',\n",
       "  \"We don't love anymore\",\n",
       "  'What was all of it for?',\n",
       "  \"Oh, we don't talk anymore\",\n",
       "  'Like we used to do',\n",
       "  '',\n",
       "  \"I just hope you're lying next to somebody\",\n",
       "  'Who knows how to love you like me',\n",
       "  \"There must be a good reason that you're gone\",\n",
       "  'Every now and then I think you',\n",
       "  'Might want me to come show up at your door',\n",
       "  \"But I'm just too afraid that I'll be wrong\",\n",
       "  '',\n",
       "  \"Don't wanna know\",\n",
       "  \"If you're looking into her eyes\",\n",
       "  \"If she's holding onto you so tight\",\n",
       "  'The way I did before',\n",
       "  'I overdosed',\n",
       "  \"Should've known your love was a game\",\n",
       "  \"Now I can't get you out of my brain\",\n",
       "  \"Ooh, it's such a shame\",\n",
       "  '',\n",
       "  \"That we don't talk anymore (we don't, we don't)\",\n",
       "  \"We don't talk anymore (we don't, we don't)\",\n",
       "  \"We don't talk anymore\",\n",
       "  'Like we used to do',\n",
       "  \"We don't love anymore (we don't, we don't)\",\n",
       "  \"What was all of it for? (We don't, we don't)\",\n",
       "  \"Oh, we don't talk anymore\",\n",
       "  'Like we used to do',\n",
       "  '',\n",
       "  'Like we used to do',\n",
       "  '',\n",
       "  \"Don't wanna know\",\n",
       "  \"What kind of dress you're wearing tonight\",\n",
       "  \"If he's giving it to you just right\",\n",
       "  'The way I did before',\n",
       "  'I overdosed',\n",
       "  \"Should've known your love was a game\",\n",
       "  \"Now I can't get you out of my brain\",\n",
       "  \"Oh, it's such a shame\",\n",
       "  '',\n",
       "  \"That we don't talk anymore (we don't, we don't)\",\n",
       "  \"We don't talk anymore (we don't, we don't)\",\n",
       "  \"We don't talk anymore\",\n",
       "  'Like we used to do',\n",
       "  \"We don't love anymore (we don't, we don't)\",\n",
       "  \"What was all of it for? (we don't, we don't)\",\n",
       "  \"Oh, we don't talk anymore\",\n",
       "  'Like we used to do',\n",
       "  '',\n",
       "  \"(We don't talk anymore) Don't wanna know\",\n",
       "  \"What kind of dress you're wearing tonight (oh)\",\n",
       "  \"If he's holding onto you so tight (oh)\",\n",
       "  'The way I did before',\n",
       "  \"(We don't talk anymore) I overdosed\",\n",
       "  \"Should've known your love was a game (oh)\",\n",
       "  \"Now I can't get you out of my brain (woah)\",\n",
       "  \"Ooh, it's such a shame\",\n",
       "  \"We don't talk anymore\"]}"
      ]
     },
     "execution_count": 11,
     "metadata": {},
     "output_type": "execute_result"
    }
   ],
   "source": [
    "from ShazamAPI import Shazam\n",
    "\n",
    "mp3_file_content_to_recognize = open('abcde.mp3', 'rb').read()\n",
    "\n",
    "shazam = Shazam(mp3_file_content_to_recognize)\n",
    "recognize_generator = shazam.recognizeSong()\n",
    "'''\n",
    "while True:\n",
    "\tprint(next(recognize_generator)) # current offset & shazam response to recognize requests\n",
    "'''\n",
    "while True:\n",
    "    one_record = next(recognize_generator)\n",
    "    break\n",
    "song_info = {}\n",
    "song_info['title'] = one_record[1]['track']['title']\n",
    "song_info['Track ID'] = one_record[1]['track']['key']\n",
    "#309528203\n",
    "song_info['Sub title'] = one_record[1]['track']['subtitle']\n",
    "lyrics_sections = one_record[1]['track']['sections']\n",
    "for section in lyrics_sections:\n",
    "    if section['type'] == 'LYRICS':\n",
    "        song_info['lyrics'] = section['text']\n",
    "song_info "
   ]
  },
  {
   "cell_type": "code",
   "execution_count": 12,
   "id": "92b2259f-25c5-41ef-91fd-596e0fafacbd",
   "metadata": {},
   "outputs": [],
   "source": [
    "from playsound import playsound"
   ]
  },
  {
   "cell_type": "code",
   "execution_count": 14,
   "id": "2d05fae7-5b00-4484-9d39-04ea4f52c00f",
   "metadata": {},
   "outputs": [
    {
     "ename": "KeyboardInterrupt",
     "evalue": "",
     "output_type": "error",
     "traceback": [
      "\u001b[0;31m---------------------------------------------------------------------------\u001b[0m",
      "\u001b[0;31mKeyboardInterrupt\u001b[0m                         Traceback (most recent call last)",
      "Cell \u001b[0;32mIn [14], line 1\u001b[0m\n\u001b[0;32m----> 1\u001b[0m playsound(\u001b[39m'\u001b[39;49m\u001b[39mrickroll.mp4\u001b[39;49m\u001b[39m'\u001b[39;49m)\n",
      "File \u001b[0;32m/usr/local/lib/python3.10/site-packages/playsound.py:144\u001b[0m, in \u001b[0;36m_playsoundOSX\u001b[0;34m(sound, block)\u001b[0m\n\u001b[1;32m    141\u001b[0m nssound\u001b[39m.\u001b[39mplay()\n\u001b[1;32m    143\u001b[0m \u001b[39mif\u001b[39;00m block:\n\u001b[0;32m--> 144\u001b[0m     sleep(nssound\u001b[39m.\u001b[39;49mduration())\n",
      "\u001b[0;31mKeyboardInterrupt\u001b[0m: "
     ]
    }
   ],
   "source": [
    "playsound('rickroll.mp4')"
   ]
  },
  {
   "cell_type": "code",
   "execution_count": null,
   "id": "1f0c098a-6cf9-4ae8-88f1-dbd990a18553",
   "metadata": {},
   "outputs": [],
   "source": []
  }
 ],
 "metadata": {
  "kernelspec": {
   "display_name": "Python 3.10.8 64-bit",
   "language": "python",
   "name": "python3"
  },
  "language_info": {
   "codemirror_mode": {
    "name": "ipython",
    "version": 3
   },
   "file_extension": ".py",
   "mimetype": "text/x-python",
   "name": "python",
   "nbconvert_exporter": "python",
   "pygments_lexer": "ipython3",
   "version": "3.10.8"
  },
  "vscode": {
   "interpreter": {
    "hash": "aee8b7b246df8f9039afb4144a1f6fd8d2ca17a180786b69acc140d282b71a49"
   }
  }
 },
 "nbformat": 4,
 "nbformat_minor": 5
}
